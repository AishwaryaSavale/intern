{
 "cells": [
  {
   "cell_type": "code",
   "execution_count": 2,
   "id": "442bfb9b",
   "metadata": {},
   "outputs": [
    {
     "name": "stdout",
     "output_type": "stream",
     "text": [
      "Hi, I'm ChatBot. How can I assist you today?\n",
      "You: hello\n",
      "ChatBot: Hi there!\n",
      "You: how are you\n",
      "ChatBot: I am good, thank you!\n",
      "You: good morning\n",
      "ChatBot: None\n",
      "You: what is your name\n",
      "ChatBot: My name is ChatBot.\n",
      "You: bye\n",
      "ChatBot: Goodbye!\n"
     ]
    }
   ],
   "source": [
    "import nltk\n",
    "from nltk.chat.util import Chat, reflections\n",
    "\n",
    "pairs = [\n",
    "    ['hi|hello|hey', ['Hello!', 'Hi there!', 'Hey!']],\n",
    "    ['how are you?', ['I am good, thank you!', 'I\\'m doing well, thanks for asking. How about you?']],\n",
    "    ['(.*) your name?', ['My name is ChatBot.']],\n",
    "    ['(.) help (.)', ['Sure, I can help you. What do you need assistance with?']],\n",
    "    ['bye|goodbye', ['Goodbye!', 'See you later!', 'Bye!']],\n",
    "]\n",
    "\n",
    "# Create a Chat object\n",
    "chatbot = Chat(pairs, reflections)\n",
    "\n",
    "# Define a function to chat with the user\n",
    "def chat():\n",
    "    print(\"Hi, I'm ChatBot. How can I assist you today?\")\n",
    "    while True:\n",
    "        user_input = input(\"You: \")\n",
    "        response = chatbot.respond(user_input)\n",
    "        print(\"ChatBot:\", response)\n",
    "        if user_input.lower() == 'bye':\n",
    "            break\n",
    "\n",
    "# Start the chat\n",
    "if __name__ == \"__main__\":\n",
    "     chat()"
   ]
  },
  {
   "cell_type": "code",
   "execution_count": null,
   "id": "e8f54683",
   "metadata": {},
   "outputs": [],
   "source": []
  }
 ],
 "metadata": {
  "kernelspec": {
   "display_name": "Python 3 (ipykernel)",
   "language": "python",
   "name": "python3"
  },
  "language_info": {
   "codemirror_mode": {
    "name": "ipython",
    "version": 3
   },
   "file_extension": ".py",
   "mimetype": "text/x-python",
   "name": "python",
   "nbconvert_exporter": "python",
   "pygments_lexer": "ipython3",
   "version": "3.9.13"
  }
 },
 "nbformat": 4,
 "nbformat_minor": 5
}
